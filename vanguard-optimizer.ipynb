{
 "cells": [
  {
   "cell_type": "markdown",
   "id": "17fb4621",
   "metadata": {},
   "source": [
    "# Vanguard Portfolio Optimizer (using vanguard historical data)"
   ]
  },
  {
   "cell_type": "markdown",
   "id": "1fbc9dfc",
   "metadata": {},
   "source": [
    "## Initialization"
   ]
  },
  {
   "cell_type": "code",
   "execution_count": null,
   "id": "e08d799e",
   "metadata": {},
   "outputs": [],
   "source": [
    "%matplotlib inline"
   ]
  },
  {
   "cell_type": "code",
   "execution_count": null,
   "id": "825f815a",
   "metadata": {},
   "outputs": [],
   "source": [
    "import requests\n",
    "import json\n",
    "\n",
    "import pandas as pd\n",
    "import numpy as np\n",
    "import requests_cache\n",
    "import cvxpy as cp\n",
    "import seaborn as sns\n",
    "\n",
    "from statsmodels.stats.outliers_influence import variance_inflation_factor"
   ]
  },
  {
   "cell_type": "code",
   "execution_count": null,
   "id": "4cba2ecd",
   "metadata": {},
   "outputs": [],
   "source": [
    "requests_cache.install_cache(\"requests_cache\", backend=\"sqlite\")"
   ]
  },
  {
   "cell_type": "code",
   "execution_count": null,
   "id": "a92a738b",
   "metadata": {},
   "outputs": [],
   "source": [
    "PRODUCT_URL = \"https://api.vanguard.com/rs/gre/gra/1.7.0/datasets/urd-product-list.json\"\n",
    "REQUEST_URL = \"https://api.vanguard.com/rs/gre/gra/1.7.0/datasets/urd-product-port-specific-price-history.json?vars=portId:{port_id},issueType:S,startDate:{start_date:%Y-%m-%d},endDate:{end_date:%Y-%m-%d}\"\n",
    "ASSET_COLOURS = {\"BOND\": \"red\", \"EQUITY\": \"green\"}\n",
    "CUTOFF_YEAR = 2015\n",
    "\n",
    "END_DATE = pd.to_datetime(\"2021-01-01\")"
   ]
  },
  {
   "cell_type": "markdown",
   "id": "0ea11e93",
   "metadata": {},
   "source": [
    "## Get products descriptions"
   ]
  },
  {
   "cell_type": "code",
   "execution_count": null,
   "id": "b401777d",
   "metadata": {},
   "outputs": [],
   "source": [
    "def get_products() -> pd.DataFrame:\n",
    "    request = requests.get(PRODUCT_URL)\n",
    "    assert request.status_code == 200\n",
    "    return json.loads(request.text)\n",
    "\n",
    "\n",
    "def len_or(value, none_value=1) -> int:\n",
    "    return none_value if value is None else len(value)\n",
    "\n",
    "\n",
    "def products_json_to_df(products_json) -> pd.DataFrame:\n",
    "    return (\n",
    "        pd.DataFrame(products_json.values())\n",
    "        .assign(\n",
    "            fees=lambda x: x[\"OCF\"].str.slice(0, -1).astype(float) / 100,\n",
    "            assets=lambda x: x[\"assetAllocations\"].apply(len_or),\n",
    "            inceptionDate=lambda x: pd.to_datetime(x[\"inceptionDate\"]),\n",
    "        )\n",
    "        .reset_index(drop=True)\n",
    "    )\n",
    "\n",
    "\n",
    "raw_products_df = products_json_to_df(get_products())"
   ]
  },
  {
   "cell_type": "code",
   "execution_count": null,
   "id": "66fdc42a",
   "metadata": {},
   "outputs": [],
   "source": [
    "ax = (\n",
    "    raw_products_df.groupby(\"inceptionDate\")\n",
    "    .size()\n",
    "    .sort_index()\n",
    "    .cumsum()\n",
    "    .plot(grid=True, style=\".\")\n",
    ")\n",
    "_ = ax.set_title(\"Products by inception date\")"
   ]
  },
  {
   "cell_type": "markdown",
   "id": "bf1e0c96",
   "metadata": {},
   "source": [
    "## Filter products\n",
    "\n",
    "* Keep only \"Accumulation\" products (their dividends are automatically reinvsted)\n",
    "* Remove actively managed products\n",
    "* Remove ESG/SRI products (they are highly correlated to the non ESG/SRI products)\n",
    "* Remove recently created products (not enough historical data)"
   ]
  },
  {
   "cell_type": "code",
   "execution_count": null,
   "id": "99800d63",
   "metadata": {},
   "outputs": [],
   "source": [
    "products_df = raw_products_df[\n",
    "    lambda x: (x[\"distributionStrategyType\"] == \"ACCM\")\n",
    "    & x[\"assetCode\"].isin([\"BOND\", \"EQUITY\"])\n",
    "    & (x[\"managementType\"] == \"INDEX\")\n",
    "    & ~x[\"name\"].str.startswith(\"ESG \")\n",
    "    & ~x[\"name\"].str.startswith(\"SRI \")\n",
    "    & (x[\"inceptionDate\"].dt.year <= CUTOFF_YEAR)\n",
    "].reset_index(drop=True)"
   ]
  },
  {
   "cell_type": "markdown",
   "id": "bc858289",
   "metadata": {},
   "source": [
    "## Get products historical prices"
   ]
  },
  {
   "cell_type": "code",
   "execution_count": null,
   "id": "96c14fd6",
   "metadata": {},
   "outputs": [],
   "source": [
    "histories = {}\n",
    "\n",
    "for _, product in products_df.iterrows():\n",
    "    port_id = product[\"portId\"]\n",
    "    url = REQUEST_URL.format(\n",
    "        port_id=port_id, start_date=product[\"inceptionDate\"], end_date=END_DATE\n",
    "    )\n",
    "    request = requests.get(url)\n",
    "    assert request.status_code == 200\n",
    "\n",
    "    histories[port_id] = json.loads(request.text)"
   ]
  },
  {
   "cell_type": "code",
   "execution_count": null,
   "id": "7af6e062",
   "metadata": {},
   "outputs": [],
   "source": [
    "sedols = products_df.set_index(\"portId\")[\"sedol\"].to_dict()\n",
    "dfs = []\n",
    "for port_id, history in histories.items():\n",
    "    df = (\n",
    "        pd.DataFrame(history)\n",
    "        .assign(\n",
    "            date=lambda x: pd.to_datetime(x[\"date\"], utc=True)\n",
    "            .dt.tz_localize(None)\n",
    "            .dt.normalize()\n",
    "        )\n",
    "        .drop(columns=[\"mmNavPrice\"])\n",
    "        .rename(columns={\"navPrice\": \"price\"})\n",
    "        .sort_values(\"date\", ignore_index=True)\n",
    "        .assign(\n",
    "            sedol=sedols[port_id],\n",
    "            day_return=lambda x: (x[\"price\"] - x[\"price\"].shift()) / x[\"price\"].shift(),\n",
    "        )\n",
    "    )\n",
    "    dfs.append(df)\n",
    "historical_df = pd.concat(dfs, ignore_index=True)"
   ]
  },
  {
   "cell_type": "markdown",
   "id": "8a07322b",
   "metadata": {},
   "source": [
    "## Explore products stats"
   ]
  },
  {
   "cell_type": "code",
   "execution_count": null,
   "id": "198d60aa",
   "metadata": {},
   "outputs": [],
   "source": [
    "pivoted_returns = (\n",
    "    historical_df.pivot(index=[\"date\"], columns=[\"sedol\"], values=[\"day_return\"])\n",
    "    .droplevel(0, axis=1)\n",
    "    .dropna(how=\"any\")[lambda x: sorted(x.columns)]\n",
    ")"
   ]
  },
  {
   "cell_type": "code",
   "execution_count": null,
   "id": "5c9ec9db",
   "metadata": {},
   "outputs": [],
   "source": [
    "yearly_returns_mean = ((1 + pivoted_returns.mean()) ** 252 - 1).rename(\n",
    "    \"yearly_return_mean\"\n",
    ")\n",
    "yearly_returns_std = (pivoted_returns.std() * np.sqrt(252)).rename(\"yearly_return_std\")\n",
    "counts = pivoted_returns.count().rename(\"count\")\n",
    "\n",
    "stats = pd.concat([yearly_returns_mean, yearly_returns_std, counts], axis=1)"
   ]
  },
  {
   "cell_type": "code",
   "execution_count": null,
   "id": "149f0730",
   "metadata": {},
   "outputs": [],
   "source": [
    "products_stats_df = products_df.join(stats, on=\"sedol\")"
   ]
  },
  {
   "cell_type": "code",
   "execution_count": null,
   "id": "b95f853f",
   "metadata": {},
   "outputs": [],
   "source": [
    "ax = (\n",
    "    products_stats_df\n",
    "    # .set_index('year_std')\n",
    "    .plot.scatter(\n",
    "        x=\"yearly_return_std\",\n",
    "        y=\"yearly_return_mean\",\n",
    "        grid=True,\n",
    "        figsize=(20, 10),\n",
    "        c=products_stats_df[\"assetCode\"].map(ASSET_COLOURS),\n",
    "    )\n",
    ")\n",
    "\n",
    "\n",
    "def label_point(x, y, val, ax):\n",
    "    a = pd.concat({\"x\": x, \"y\": y, \"val\": val}, axis=1)\n",
    "    for i, point in a.iterrows():\n",
    "        ax.text(point[\"x\"], point[\"y\"], str(point[\"val\"]))\n",
    "\n",
    "\n",
    "label_point(\n",
    "    products_stats_df[\"yearly_return_std\"],\n",
    "    products_stats_df[\"yearly_return_mean\"],\n",
    "    products_stats_df[\"name\"],\n",
    "    ax,\n",
    ")\n",
    "_ = ax.set_title(\"Risk vs Return\")"
   ]
  },
  {
   "cell_type": "code",
   "execution_count": null,
   "id": "77b30912",
   "metadata": {},
   "outputs": [],
   "source": [
    "pivoted_prices = historical_df.pivot(\n",
    "    index=\"date\", values=\"price\", columns=\"sedol\"\n",
    ").dropna(how=\"any\")"
   ]
  },
  {
   "cell_type": "code",
   "execution_count": null,
   "id": "030b0c5e",
   "metadata": {},
   "outputs": [],
   "source": [
    "_ = pivoted_prices.div(pivoted_prices.iloc[0], axis=1).plot(\n",
    "    figsize=(20, 10), title=\"Historical prices\"\n",
    ")"
   ]
  },
  {
   "cell_type": "markdown",
   "id": "34c7ad16",
   "metadata": {},
   "source": [
    "## Prepare optimization inputs"
   ]
  },
  {
   "cell_type": "code",
   "execution_count": null,
   "id": "407ce0e7",
   "metadata": {},
   "outputs": [],
   "source": [
    "covariance = pivoted_returns.cov().sort_index()[lambda x: sorted(x.columns)]\n",
    "expected_returns = pivoted_returns.mean()"
   ]
  },
  {
   "cell_type": "code",
   "execution_count": null,
   "id": "6d8e6455",
   "metadata": {},
   "outputs": [],
   "source": [
    "class ProblemVariables:\n",
    "    def __init__(self, expected_returns, covariance):\n",
    "\n",
    "        assert (expected_returns.index == covariance.index).all()\n",
    "        self.index = expected_returns.index\n",
    "        er = expected_returns.to_numpy()\n",
    "        cov = np.asmatrix(covariance.to_numpy())\n",
    "        self.x = cp.Variable(len(expected_returns))\n",
    "        self.vol = cp.quad_form(self.x, np.asmatrix(cov))\n",
    "        self.ret = er.T @ self.x\n",
    "\n",
    "    def results(self):\n",
    "        return self.ret.value, self.std()\n",
    "\n",
    "    def std(self):\n",
    "        return np.sqrt(self.vol.value)\n",
    "\n",
    "    def year_std(self):\n",
    "        return self.std() * np.sqrt(252)\n",
    "\n",
    "    def year_return(self):\n",
    "        return (1 + self.ret.value) ** 252 - 1\n",
    "\n",
    "    def full_results(self):\n",
    "        results = dict(zip(self.index, self.x.value))\n",
    "        results[\"return\"] = self.year_return()\n",
    "        results[\"std\"] = self.year_std()\n",
    "        return pd.Series(results)\n",
    "\n",
    "    def maximize_returns(self):\n",
    "        cp.Problem(cp.Maximize(self.ret), [sum(self.x) == 1, self.x >= 0]).solve(\n",
    "            solver=\"CVXOPT\"\n",
    "        )\n",
    "        return self\n",
    "\n",
    "    def minimize_std(self):\n",
    "        cp.Problem(cp.Minimize(self.vol), [sum(self.x) == 1, self.x >= 0]).solve(\n",
    "            solver=\"CVXOPT\"\n",
    "        )\n",
    "        return self\n",
    "\n",
    "    def solve_for_std(self, std_limit):\n",
    "        cp.Problem(\n",
    "            cp.Maximize(self.ret),\n",
    "            [\n",
    "                self.vol <= std_limit ** 2,\n",
    "                cp.sum(self.x) == 1,\n",
    "                self.x >= 0,\n",
    "            ],\n",
    "        ).solve(solver=\"CVXOPT\")\n",
    "        return self\n",
    "\n",
    "    def iterate_stds(self, points):\n",
    "        min_std = self.minimize_std().std()\n",
    "        max_std = self.maximize_returns().std()\n",
    "\n",
    "        std_values = np.linspace(min_std, max_std, points)\n",
    "        results = []\n",
    "        for std_limit in std_values:\n",
    "            results.append(self.solve_for_std(std_limit).full_results())\n",
    "        return pd.DataFrame(results)\n",
    "\n",
    "    def solve_for_return(self, return_limit):\n",
    "        prob = cp.Problem(\n",
    "            cp.Minimize(self.vol),\n",
    "            [\n",
    "                self.ret >= return_limit,\n",
    "                cp.sum(self.x) == 1,\n",
    "                self.x >= 0,\n",
    "            ],\n",
    "        ).solve(solver=\"CVXOPT\")\n",
    "        return self\n",
    "\n",
    "    def iterate_returns(self, points):\n",
    "        min_return = self.minimize_std().ret.value\n",
    "        max_return = self.maximize_returns().ret.value\n",
    "\n",
    "        return_values = np.linspace(min_return, max_return, points)\n",
    "\n",
    "        results = []\n",
    "        for return_value in return_values:\n",
    "            results.append(self.solve_for_return(return_value).full_results())\n",
    "        return pd.DataFrame(results)\n",
    "\n",
    "\n",
    "std_ptfs = (\n",
    "    ProblemVariables(expected_returns, covariance).minimize_std().iterate_stds(200)\n",
    ")"
   ]
  },
  {
   "cell_type": "markdown",
   "id": "be62d6cc",
   "metadata": {},
   "source": [
    "## Plot results"
   ]
  },
  {
   "cell_type": "code",
   "execution_count": null,
   "id": "333cebc4",
   "metadata": {},
   "outputs": [],
   "source": [
    "def renormalize(df):\n",
    "    row_sum = df.sum(axis=1)\n",
    "    return df.div(row_sum, axis=0)\n",
    "\n",
    "\n",
    "def plot_ptfs(ptfs, products_df, key=\"std\"):\n",
    "    assert key in (\"std\", \"return\")\n",
    "    mapping = products_df.set_index(\"sedol\")[\"name\"].to_dict()\n",
    "\n",
    "    return (\n",
    "        ptfs.drop(columns=[\"return\" if key == \"std\" else \"std\"])\n",
    "        .set_index(\"std\" if key == \"std\" else \"return\")\n",
    "        .mask(lambda x: x < 0.01)\n",
    "        .fillna(0)\n",
    "        .loc[:, lambda x: (x != 0).any(axis=0)]\n",
    "        .pipe(renormalize)\n",
    "        .rename(columns=mapping)\n",
    "        .plot.area(figsize=[20, 10], grid=True, legend=\"reverse\")\n",
    "    )"
   ]
  },
  {
   "cell_type": "code",
   "execution_count": null,
   "id": "a641d6d2",
   "metadata": {},
   "outputs": [],
   "source": [
    "_ = plot_ptfs(std_ptfs, products_df, key=\"std\").set_title(\"Portfolio by std\")"
   ]
  },
  {
   "cell_type": "code",
   "execution_count": null,
   "id": "f6545b83",
   "metadata": {},
   "outputs": [],
   "source": [
    "ax = std_ptfs.plot.scatter(x=\"std\", y=\"return\", grid=True, marker=\".\", figsize=(20, 10))\n",
    "ax.scatter(\n",
    "    x=products_stats_df[\"yearly_return_std\"],\n",
    "    y=products_stats_df[\"yearly_return_mean\"],\n",
    "    c=products_stats_df[\"assetCode\"].map(ASSET_COLOURS),\n",
    ")\n",
    "_ = ax.set_title(\"Portfolio vs Products\")"
   ]
  },
  {
   "cell_type": "markdown",
   "id": "3599d0de",
   "metadata": {},
   "source": [
    "# Appendix 1: identifying redundant products"
   ]
  },
  {
   "cell_type": "code",
   "execution_count": null,
   "id": "aecb7dc8",
   "metadata": {},
   "outputs": [],
   "source": [
    "marginal_vifs = (\n",
    "    pd.Series(\n",
    "        [\n",
    "            variance_inflation_factor(pivoted_returns.values, i)\n",
    "            for i in range(len(pivoted_returns.columns))\n",
    "        ],\n",
    "        index=pivoted_returns.columns,\n",
    "    )\n",
    "    .sort_values()\n",
    "    .rename(\"vif\")\n",
    "    .to_frame()\n",
    "    .join(products_df.set_index(\"sedol\")[[\"name\"]])\n",
    ")\n",
    "marginal_vifs"
   ]
  },
  {
   "cell_type": "code",
   "execution_count": null,
   "id": "6e5c5896",
   "metadata": {},
   "outputs": [],
   "source": [
    "def calculate_vifs(pr):\n",
    "    removed = {}\n",
    "    for i in range(len(pr.columns) - 1):\n",
    "        vif = (\n",
    "            pd.Series(\n",
    "                [\n",
    "                    variance_inflation_factor(pr.values, i)\n",
    "                    for i in range(len(pr.columns))\n",
    "                ],\n",
    "                index=pr.columns,\n",
    "            )\n",
    "            .sort_values()\n",
    "            .rename(\"vif\")\n",
    "        )\n",
    "        removed[vif.index[-1]] = vif.iloc[-1]\n",
    "\n",
    "        pr = pr[lambda x: [c for c in x.columns if c not in removed]]\n",
    "    removed[pr.columns[0]] = 1\n",
    "    return pd.Series(removed, name=\"vif\").sort_values()\n",
    "\n",
    "\n",
    "recursive_vifs = (\n",
    "    calculate_vifs(pivoted_returns)\n",
    "    .to_frame()\n",
    "    .rename_axis(\"sedol\")\n",
    "    .join(products_df.set_index(\"sedol\")[[\"name\"]])\n",
    ")\n",
    "recursive_vifs"
   ]
  },
  {
   "cell_type": "code",
   "execution_count": null,
   "id": "58402f29",
   "metadata": {},
   "outputs": [],
   "source": [
    "_ = sns.pairplot(pivoted_returns[recursive_vifs.index[-5:]], kind=\"reg\")"
   ]
  }
 ],
 "metadata": {
  "kernelspec": {
   "display_name": "Python 3 (ipykernel)",
   "language": "python",
   "name": "python3"
  },
  "language_info": {
   "codemirror_mode": {
    "name": "ipython",
    "version": 3
   },
   "file_extension": ".py",
   "mimetype": "text/x-python",
   "name": "python",
   "nbconvert_exporter": "python",
   "pygments_lexer": "ipython3",
   "version": "3.8.10"
  }
 },
 "nbformat": 4,
 "nbformat_minor": 5
}
